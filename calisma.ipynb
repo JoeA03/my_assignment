{
 "cells": [
  {
   "cell_type": "code",
   "execution_count": 2,
   "metadata": {},
   "outputs": [
    {
     "output_type": "stream",
     "name": "stdout",
     "text": "111 is not an Armstrong number.\n"
    }
   ],
   "source": [
    "while True:\n",
    "    num = input(\"enter a positive number\")\n",
    "    digits = len(num)\n",
    "    sum = 0\n",
    "    if not num.isdigit():\n",
    "        print(num, \"is an invalid entry. Do not use non-numeric, float, or negative number.\")\n",
    "    else:\n",
    "        for i in range(digits):\n",
    "            sum += int(num[i]) ** digits\n",
    "        if sum == int(num):\n",
    "            print(num, \"is an Armstrong number.\")\n",
    "            break\n",
    "        else:\n",
    "            print(num, \"is not an Armstrong number.\")\n",
    "            break\n"
   ]
  },
  {
   "cell_type": "code",
   "execution_count": 3,
   "metadata": {},
   "outputs": [
    {
     "output_type": "execute_result",
     "data": {
      "text/plain": "{'int': 0, 'str': 0, 'bool': 0, 'list': 0, 'tuple': 0, 'dict': 0, 'set': 0}"
     },
     "metadata": {},
     "execution_count": 3
    }
   ],
   "source": [
    "veri = [\"a\", \"b\", True, (False, 1), {\"1\", 2}, [1,2], {\"2\":\"two\"}, {2, \"3\"}, \"c\"]\n",
    "\n",
    "tipler = [\"int\", \"str\", \"bool\", \"list\", \"tuple\", \"dict\", \"set\"]\n",
    "\n",
    "toplam = {}.fromkeys(tipler, 0)\n",
    "\n",
    "for i in range(len(veri))\n",
    "    if type(veri[i]) == type(1) : toplam[\"int\"] += 1\n",
    "    elif type(veri[i]) == type(\" \") : toplam[\"str\"] += 1\n",
    "    elif type(veri[i]) == type(False) : toplam[\"bool\"] += 1\n",
    "    "
   ]
  },
  {
   "cell_type": "code",
   "execution_count": 4,
   "metadata": {},
   "outputs": [
    {
     "output_type": "stream",
     "name": "stdout",
     "text": "407 is an Armstrong number.\n"
    }
   ],
   "source": [
    "while True:\n",
    "    num = input(\"enter a positive number\")\n",
    "    digits = len(num)\n",
    "    sum = 0\n",
    "    if not num.isdigit():\n",
    "        print(num, \"is an invalid entry. Do not use non-numeric, float, or negative number.\")\n",
    "    else:\n",
    "        for i in range(digits):\n",
    "            sum += int(num[i]) ** digits\n",
    "        if sum == int(num):\n",
    "            print(num, \"is an Armstrong number.\")\n",
    "            break\n",
    "        else:\n",
    "            print(num, \"is not an Armstrong number.\")\n",
    "            break"
   ]
  },
  {
   "cell_type": "code",
   "execution_count": null,
   "metadata": {},
   "outputs": [],
   "source": []
  }
 ],
 "metadata": {
  "language_info": {
   "codemirror_mode": {
    "name": "ipython",
    "version": 3
   },
   "file_extension": ".py",
   "mimetype": "text/x-python",
   "name": "python",
   "nbconvert_exporter": "python",
   "pygments_lexer": "ipython3",
   "version": "3.8.2-final"
  },
  "orig_nbformat": 2,
  "kernelspec": {
   "name": "python38232bit40b7a886507144b1b1e37ace413a1e50",
   "display_name": "Python 3.8.2 32-bit"
  }
 },
 "nbformat": 4,
 "nbformat_minor": 2
}